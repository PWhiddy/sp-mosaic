{
 "cells": [
  {
   "cell_type": "code",
   "execution_count": 23,
   "id": "f0d6a843",
   "metadata": {},
   "outputs": [],
   "source": [
    "import numpy as np\n",
    "import torch\n",
    "from sklearn.decomposition import PCA"
   ]
  },
  {
   "cell_type": "code",
   "execution_count": 9,
   "id": "692f7e1f",
   "metadata": {},
   "outputs": [],
   "source": [
    "from PIL import Image\n",
    "from pathlib import Path\n",
    "from tqdm import tqdm"
   ]
  },
  {
   "cell_type": "code",
   "execution_count": 1,
   "id": "9d6b2c5f",
   "metadata": {},
   "outputs": [],
   "source": [
    "import clip"
   ]
  },
  {
   "cell_type": "code",
   "execution_count": 3,
   "id": "2f633ca8",
   "metadata": {},
   "outputs": [
    {
     "data": {
      "text/plain": [
       "['RN50',\n",
       " 'RN101',\n",
       " 'RN50x4',\n",
       " 'RN50x16',\n",
       " 'RN50x64',\n",
       " 'ViT-B/32',\n",
       " 'ViT-B/16',\n",
       " 'ViT-L/14',\n",
       " 'ViT-L/14@336px']"
      ]
     },
     "execution_count": 3,
     "metadata": {},
     "output_type": "execute_result"
    }
   ],
   "source": [
    "clip.available_models()"
   ]
  },
  {
   "cell_type": "code",
   "execution_count": 5,
   "id": "aa436e2a",
   "metadata": {},
   "outputs": [
    {
     "name": "stderr",
     "output_type": "stream",
     "text": [
      "100%|███████████████████████████████████████| 338M/338M [00:14<00:00, 24.8MiB/s]\n"
     ]
    }
   ],
   "source": [
    "model, preprocess = clip.load('ViT-B/32')"
   ]
  },
  {
   "cell_type": "code",
   "execution_count": 48,
   "id": "c9172747",
   "metadata": {},
   "outputs": [
    {
     "name": "stdout",
     "output_type": "stream",
     "text": [
      "\u001b[34msculptureThumbnails\u001b[m\u001b[m\r\n"
     ]
    }
   ],
   "source": [
    "!ls shader-park-core.appspot.com/"
   ]
  },
  {
   "cell_type": "code",
   "execution_count": 16,
   "id": "e9ba8ce5",
   "metadata": {},
   "outputs": [],
   "source": [
    "path = Path(\"shader-park-core.appspot.com/sculptureThumbnails\")\n",
    "all_paths = list(path.glob(\"*.jpeg\")) + list(path.glob(\"*.png\"))"
   ]
  },
  {
   "cell_type": "code",
   "execution_count": 18,
   "id": "70de3cec",
   "metadata": {},
   "outputs": [],
   "source": [
    "embeddings = torch.zeros(len(all_paths), 512)"
   ]
  },
  {
   "cell_type": "code",
   "execution_count": 21,
   "id": "abd7de18",
   "metadata": {},
   "outputs": [
    {
     "name": "stderr",
     "output_type": "stream",
     "text": [
      "1125it [01:08, 16.50it/s]\n"
     ]
    }
   ],
   "source": [
    "with torch.no_grad():\n",
    "    for idx, p in tqdm(enumerate(all_paths)):\n",
    "        img = preprocess(Image.open(p)).unsqueeze(0)\n",
    "        embeddings[idx] = model.encode_image(img).squeeze()"
   ]
  },
  {
   "cell_type": "code",
   "execution_count": 33,
   "id": "246d9f42",
   "metadata": {},
   "outputs": [
    {
     "name": "stdout",
     "output_type": "stream",
     "text": [
      "0.16663381\n"
     ]
    }
   ],
   "source": [
    "X = embeddings.numpy()\n",
    "pca = PCA(n_components=2)\n",
    "#pca.fit(X)\n",
    "pca_vals = pca.fit_transform(X)\n",
    "print(pca.explained_variance_ratio_.sum())"
   ]
  },
  {
   "cell_type": "code",
   "execution_count": 42,
   "id": "7252e9c5",
   "metadata": {},
   "outputs": [
    {
     "name": "stdout",
     "output_type": "stream",
     "text": [
      "(1125, 2)\n"
     ]
    },
    {
     "data": {
      "text/plain": [
       "array([[ 1.3595157 , -1.2727263 ],\n",
       "       [-0.6688118 , -0.9418027 ],\n",
       "       [ 0.60495144, -0.85944796],\n",
       "       [ 0.29132822, -0.8286504 ]], dtype=float32)"
      ]
     },
     "execution_count": 42,
     "metadata": {},
     "output_type": "execute_result"
    }
   ],
   "source": [
    "print(pca_vals.shape)\n",
    "pca_vals[:4]"
   ]
  },
  {
   "cell_type": "code",
   "execution_count": 45,
   "id": "5d37748b",
   "metadata": {},
   "outputs": [],
   "source": [
    "comps_with_idx = [{\"img_idx\": idx, \"comps\": comps } for idx, comps in enumerate(pca_vals)]"
   ]
  },
  {
   "cell_type": "code",
   "execution_count": 47,
   "id": "c02ea807",
   "metadata": {},
   "outputs": [],
   "source": [
    "\n",
    "# sort x \n",
    "x_sorted = sorted(comps_with_idx, key=lambda comps: comps[\"comps\"][0])"
   ]
  },
  {
   "cell_type": "code",
   "execution_count": 48,
   "id": "441f4e97",
   "metadata": {},
   "outputs": [],
   "source": [
    "# sort y\n",
    "dim = 34\n",
    "grid_sorted = []\n",
    "for i in range(dim):\n",
    "    row = x_sorted[i*dim:(i+1)*dim]\n",
    "    row_sorted = sorted(row, key=lambda comps: comps[\"comps\"][1])\n",
    "    grid_sorted.append(row_sorted)\n"
   ]
  },
  {
   "cell_type": "code",
   "execution_count": 54,
   "id": "bef8b2f3",
   "metadata": {},
   "outputs": [
    {
     "name": "stderr",
     "output_type": "stream",
     "text": [
      "34it [00:39,  1.15s/it]\n"
     ]
    }
   ],
   "source": [
    "# clip sorted version \n",
    "\n",
    "dim = 34\n",
    "img_size = 512\n",
    "total_dim = dim*img_size\n",
    "main_img = np.zeros((total_dim,total_dim,4), dtype=np.uint8)\n",
    "for y_idx, row in tqdm(enumerate(grid_sorted)):\n",
    "    for x_idx, comps in enumerate(row):\n",
    "        img_idx = comps[\"img_idx\"]\n",
    "        img = Image.open(all_paths[img_idx])\n",
    "        resized_img = img.resize((img_size, img_size))\n",
    "        if (resized_img.mode != \"RGBA\"):\n",
    "            new_img = np.ones((img_size,img_size,4), dtype=np.uint8)*255\n",
    "            new_img[:,:,:3] = resized_img\n",
    "            # from https://github.com/PWhiddy/PokemonRedExperiments/blob/master/MapWalkingVis.ipynb\n",
    "            alpha_val = np.array([255, 255,  255, 255], dtype=np.uint8)\n",
    "            alpha_mask = (new_img == alpha_val).all(axis=2).reshape(img_size,img_size,1)\n",
    "            resized_img = np.where(alpha_mask, np.array([[[0,0,0,0]]]), new_img)\n",
    "        main_img[\n",
    "            x_idx*img_size:(x_idx+1)*img_size, \n",
    "            y_idx*img_size:(y_idx+1)*img_size] = np.asarray(resized_img)\n",
    "im = Image.fromarray(main_img)\n",
    "im.save(\"grid_full_sorted.png\")"
   ]
  },
  {
   "cell_type": "code",
   "execution_count": 64,
   "id": "b4929482",
   "metadata": {},
   "outputs": [
    {
     "name": "stderr",
     "output_type": "stream",
     "text": [
      "100%|█████████████████████████████████████████████████████████████████████████████████████████████████████████████████████| 1125/1125 [00:40<00:00, 28.10it/s]\n"
     ]
    }
   ],
   "source": [
    "# full version\n",
    "dim = 34\n",
    "img_size = 512\n",
    "total_dim = dim*img_size\n",
    "main_img = np.zeros((total_dim,total_dim,4), dtype=np.uint8)\n",
    "x_idx = 0\n",
    "y_idx = 0\n",
    "all_paths = list(path.glob(\"*.jpeg\")) + list(path.glob(\"*.png\"))\n",
    "for p in tqdm(all_paths):\n",
    "    img = Image.open(p)\n",
    "    resized_img = img.resize((img_size, img_size))\n",
    "    if (resized_img.mode != \"RGBA\"):\n",
    "        new_img = np.ones((img_size,img_size,4), dtype=np.uint8)*255\n",
    "        new_img[:,:,:3] = resized_img\n",
    "        # from https://github.com/PWhiddy/PokemonRedExperiments/blob/master/MapWalkingVis.ipynb\n",
    "        alpha_val = np.array([255, 255,  255, 255], dtype=np.uint8)\n",
    "        alpha_mask = (new_img == alpha_val).all(axis=2).reshape(img_size,img_size,1)\n",
    "        resized_img = np.where(alpha_mask, np.array([[[0,0,0,0]]]), new_img)\n",
    "    main_img[\n",
    "        x_idx*img_size:(x_idx+1)*img_size, \n",
    "        y_idx*img_size:(y_idx+1)*img_size] = np.asarray(resized_img)\n",
    "    x_idx += 1\n",
    "    if x_idx >= dim:\n",
    "        x_idx = 0\n",
    "        y_idx += 1\n",
    "im = Image.fromarray(main_img)\n",
    "im.save(\"grid_full.png\")"
   ]
  },
  {
   "cell_type": "code",
   "execution_count": 50,
   "id": "e46ec833",
   "metadata": {},
   "outputs": [
    {
     "data": {
      "text/plain": [
       "17408"
      ]
     },
     "execution_count": 50,
     "metadata": {},
     "output_type": "execute_result"
    }
   ],
   "source": [
    "total_dim"
   ]
  },
  {
   "cell_type": "code",
   "execution_count": 63,
   "id": "87605228",
   "metadata": {},
   "outputs": [
    {
     "name": "stderr",
     "output_type": "stream",
     "text": [
      "100%|█████████████████████████████████████████████████████████████████████████████████████████████████████████████████████| 1125/1125 [00:38<00:00, 28.90it/s]\n"
     ]
    }
   ],
   "source": [
    "# cropped version\n",
    "dim = 34\n",
    "pre_crop = 512\n",
    "img_size = 256\n",
    "crop_amt = (pre_crop - img_size) / 2\n",
    "total_dim = dim*img_size\n",
    "main_img = np.zeros((total_dim,total_dim,4), dtype=np.uint8)\n",
    "x_idx = 0\n",
    "y_idx = 0\n",
    "all_paths = list(path.glob(\"*.jpeg\")) + list(path.glob(\"*.png\"))\n",
    "#all_paths = all_paths[:20]\n",
    "for p in tqdm(all_paths):\n",
    "    img = Image.open(p)\n",
    "    resized_img = img.resize((pre_crop, pre_crop))\n",
    "    if (resized_img.mode != \"RGBA\"):\n",
    "        new_img = np.ones((pre_crop,pre_crop,4), dtype=np.uint8)*255\n",
    "        new_img[:,:,:3] = resized_img\n",
    "        # from https://github.com/PWhiddy/PokemonRedExperiments/blob/master/MapWalkingVis.ipynb\n",
    "        alpha_val = np.array([255, 255,  255, 255], dtype=np.uint8)\n",
    "        alpha_mask = (new_img == alpha_val).all(axis=2).reshape(pre_crop,pre_crop,1)\n",
    "        resized_img = Image.fromarray( np.where(alpha_mask, np.array([[[0,0,0,0]]]), new_img).astype(np.uint8) )\n",
    "    #print((crop_amt,pre_crop-crop_amt,pre_crop-crop_amt, crop_amt))\n",
    "    # left, top, right, bottom\n",
    "    cropped_img = resized_img.crop((crop_amt,crop_amt,pre_crop-crop_amt, pre_crop-crop_amt))\n",
    "    main_img[\n",
    "        x_idx*img_size:(x_idx+1)*img_size, \n",
    "        y_idx*img_size:(y_idx+1)*img_size] = np.asarray(cropped_img)\n",
    "    x_idx += 1\n",
    "    if x_idx >= dim:\n",
    "        x_idx = 0\n",
    "        y_idx += 1\n",
    "im = Image.fromarray(main_img)\n",
    "im.save(\"grid_cropped.png\")"
   ]
  },
  {
   "cell_type": "code",
   "execution_count": null,
   "id": "1795f1f0",
   "metadata": {},
   "outputs": [],
   "source": []
  }
 ],
 "metadata": {
  "kernelspec": {
   "display_name": "Python 3 (ipykernel)",
   "language": "python",
   "name": "python3"
  },
  "language_info": {
   "codemirror_mode": {
    "name": "ipython",
    "version": 3
   },
   "file_extension": ".py",
   "mimetype": "text/x-python",
   "name": "python",
   "nbconvert_exporter": "python",
   "pygments_lexer": "ipython3",
   "version": "3.9.11"
  }
 },
 "nbformat": 4,
 "nbformat_minor": 5
}
