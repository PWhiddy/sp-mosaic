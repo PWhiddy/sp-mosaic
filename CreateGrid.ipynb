{
 "cells": [
  {
   "cell_type": "code",
   "execution_count": 1,
   "id": "72686569",
   "metadata": {},
   "outputs": [],
   "source": [
    "import numpy as np\n",
    "from einops import rearrange"
   ]
  },
  {
   "cell_type": "code",
   "execution_count": 24,
   "id": "a1af27fb",
   "metadata": {},
   "outputs": [],
   "source": [
    "from PIL import Image\n",
    "from pathlib import Path\n",
    "from tqdm import tqdm"
   ]
  },
  {
   "cell_type": "code",
   "execution_count": 48,
   "id": "682f960c",
   "metadata": {},
   "outputs": [
    {
     "name": "stdout",
     "output_type": "stream",
     "text": [
      "\u001b[34msculptureThumbnails\u001b[m\u001b[m\r\n"
     ]
    }
   ],
   "source": [
    "!ls shader-park-core.appspot.com/"
   ]
  },
  {
   "cell_type": "code",
   "execution_count": 14,
   "id": "df42a993",
   "metadata": {},
   "outputs": [],
   "source": [
    "path = Path(\"shader-park-core.appspot.com/sculptureThumbnails\")"
   ]
  },
  {
   "cell_type": "code",
   "execution_count": 49,
   "id": "bd57aea9",
   "metadata": {},
   "outputs": [
    {
     "name": "stderr",
     "output_type": "stream",
     "text": [
      "100%|█████████████████████████████████████████████████████████████████████████████████████████████████████████████████████| 1125/1125 [00:39<00:00, 28.21it/s]\n"
     ]
    }
   ],
   "source": [
    "dim = 34\n",
    "img_size = 512\n",
    "total_dim = dim*img_size\n",
    "main_img = np.zeros((total_dim,total_dim,4), dtype=np.uint8)\n",
    "x_idx = 0\n",
    "y_idx = 0\n",
    "all_paths = list(path.glob(\"*.jpeg\")) + list(path.glob(\"*.png\"))\n",
    "for p in tqdm(all_paths):\n",
    "    img = Image.open(p)\n",
    "    resized_img = img.resize((img_size, img_size))\n",
    "    if (resized_img.mode != \"RGBA\"):\n",
    "        new_img = np.ones((img_size,img_size,4), dtype=np.uint8)*255\n",
    "        new_img[:,:,:3] = resized_img\n",
    "        # from https://github.com/PWhiddy/PokemonRedExperiments/blob/master/MapWalkingVis.ipynb\n",
    "        alpha_val = np.array([255, 255,  255, 255], dtype=np.uint8)\n",
    "        alpha_mask = (new_img == alpha_val).all(axis=2).reshape(img_size,img_size,1)\n",
    "        resized_img = np.where(alpha_mask, np.array([[[0,0,0,0]]]), new_img)\n",
    "    main_img[\n",
    "        x_idx*img_size:(x_idx+1)*img_size, \n",
    "        y_idx*img_size:(y_idx+1)*img_size] = np.asarray(resized_img)\n",
    "    x_idx += 1\n",
    "    if x_idx >= dim:\n",
    "        x_idx = 0\n",
    "        y_idx += 1\n",
    "im = Image.fromarray(main_img)\n",
    "im.save(\"grid_full.png\")"
   ]
  },
  {
   "cell_type": "code",
   "execution_count": 50,
   "id": "ce6ba66b",
   "metadata": {},
   "outputs": [
    {
     "data": {
      "text/plain": [
       "17408"
      ]
     },
     "execution_count": 50,
     "metadata": {},
     "output_type": "execute_result"
    }
   ],
   "source": [
    "total_dim"
   ]
  },
  {
   "cell_type": "code",
   "execution_count": 63,
   "id": "8ced95b2",
   "metadata": {},
   "outputs": [
    {
     "name": "stderr",
     "output_type": "stream",
     "text": [
      "100%|█████████████████████████████████████████████████████████████████████████████████████████████████████████████████████| 1125/1125 [00:38<00:00, 28.90it/s]\n"
     ]
    }
   ],
   "source": [
    "# cropped version\n",
    "dim = 34\n",
    "pre_crop = 512\n",
    "img_size = 256\n",
    "crop_amt = (pre_crop - img_size) / 2\n",
    "total_dim = dim*img_size\n",
    "main_img = np.zeros((total_dim,total_dim,4), dtype=np.uint8)\n",
    "x_idx = 0\n",
    "y_idx = 0\n",
    "all_paths = list(path.glob(\"*.jpeg\")) + list(path.glob(\"*.png\"))\n",
    "#all_paths = all_paths[:20]\n",
    "for p in tqdm(all_paths):\n",
    "    img = Image.open(p)\n",
    "    resized_img = img.resize((pre_crop, pre_crop))\n",
    "    if (resized_img.mode != \"RGBA\"):\n",
    "        new_img = np.ones((pre_crop,pre_crop,4), dtype=np.uint8)*255\n",
    "        new_img[:,:,:3] = resized_img\n",
    "        # from https://github.com/PWhiddy/PokemonRedExperiments/blob/master/MapWalkingVis.ipynb\n",
    "        alpha_val = np.array([255, 255,  255, 255], dtype=np.uint8)\n",
    "        alpha_mask = (new_img == alpha_val).all(axis=2).reshape(pre_crop,pre_crop,1)\n",
    "        resized_img = Image.fromarray( np.where(alpha_mask, np.array([[[0,0,0,0]]]), new_img).astype(np.uint8) )\n",
    "    #print((crop_amt,pre_crop-crop_amt,pre_crop-crop_amt, crop_amt))\n",
    "    # left, top, right, bottom\n",
    "    cropped_img = resized_img.crop((crop_amt,crop_amt,pre_crop-crop_amt, pre_crop-crop_amt))\n",
    "    main_img[\n",
    "        x_idx*img_size:(x_idx+1)*img_size, \n",
    "        y_idx*img_size:(y_idx+1)*img_size] = np.asarray(cropped_img)\n",
    "    x_idx += 1\n",
    "    if x_idx >= dim:\n",
    "        x_idx = 0\n",
    "        y_idx += 1\n",
    "im = Image.fromarray(main_img)\n",
    "im.save(\"grid_cropped.png\")"
   ]
  },
  {
   "cell_type": "code",
   "execution_count": null,
   "id": "3a53c9e8",
   "metadata": {},
   "outputs": [],
   "source": []
  }
 ],
 "metadata": {
  "kernelspec": {
   "display_name": "Python 3 (ipykernel)",
   "language": "python",
   "name": "python3"
  },
  "language_info": {
   "codemirror_mode": {
    "name": "ipython",
    "version": 3
   },
   "file_extension": ".py",
   "mimetype": "text/x-python",
   "name": "python",
   "nbconvert_exporter": "python",
   "pygments_lexer": "ipython3",
   "version": "3.9.11"
  }
 },
 "nbformat": 4,
 "nbformat_minor": 5
}
